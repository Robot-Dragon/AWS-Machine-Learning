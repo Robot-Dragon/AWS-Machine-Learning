{
 "cells": [
  {
   "cell_type": "code",
   "execution_count": 2,
   "id": "85a31746",
   "metadata": {},
   "outputs": [
    {
     "name": "stdout",
     "output_type": "stream",
     "text": [
      "Zane is the best\n"
     ]
    }
   ],
   "source": [
    "print('Zane is the best')"
   ]
  },
  {
   "cell_type": "code",
   "execution_count": 3,
   "id": "65f40b88",
   "metadata": {},
   "outputs": [
    {
     "name": "stdout",
     "output_type": "stream",
     "text": [
      "100\n"
     ]
    }
   ],
   "source": [
    "print(5*20)"
   ]
  },
  {
   "cell_type": "code",
   "execution_count": 1,
   "id": "f80ae563",
   "metadata": {},
   "outputs": [
    {
     "name": "stdout",
     "output_type": "stream",
     "text": [
      "some new stuff!!\n"
     ]
    }
   ],
   "source": [
    "print('some new stuff!!')"
   ]
  },
  {
   "cell_type": "code",
   "execution_count": null,
   "id": "fd1736bf",
   "metadata": {},
   "outputs": [],
   "source": []
  }
 ],
 "metadata": {
  "kernelspec": {
   "display_name": "conda_python3",
   "language": "python",
   "name": "conda_python3"
  },
  "language_info": {
   "codemirror_mode": {
    "name": "ipython",
    "version": 3
   },
   "file_extension": ".py",
   "mimetype": "text/x-python",
   "name": "python",
   "nbconvert_exporter": "python",
   "pygments_lexer": "ipython3",
   "version": "3.6.13"
  }
 },
 "nbformat": 4,
 "nbformat_minor": 5
}
